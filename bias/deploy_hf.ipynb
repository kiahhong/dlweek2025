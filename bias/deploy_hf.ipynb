{
 "cells": [
  {
   "cell_type": "code",
   "execution_count": 1,
   "metadata": {},
   "outputs": [
    {
     "name": "stdout",
     "output_type": "stream",
     "text": [
      "Requirement already satisfied: huggingface_hub in c:\\users\\kille\\appdata\\local\\programs\\python\\python311\\lib\\site-packages (0.29.1)\n",
      "Requirement already satisfied: filelock in c:\\users\\kille\\appdata\\local\\programs\\python\\python311\\lib\\site-packages (from huggingface_hub) (3.16.1)\n",
      "Requirement already satisfied: fsspec>=2023.5.0 in c:\\users\\kille\\appdata\\local\\programs\\python\\python311\\lib\\site-packages (from huggingface_hub) (2024.12.0)\n",
      "Requirement already satisfied: packaging>=20.9 in c:\\users\\kille\\appdata\\roaming\\python\\python311\\site-packages (from huggingface_hub) (24.2)\n",
      "Requirement already satisfied: pyyaml>=5.1 in c:\\users\\kille\\appdata\\local\\programs\\python\\python311\\lib\\site-packages (from huggingface_hub) (6.0.2)\n",
      "Requirement already satisfied: requests in c:\\users\\kille\\appdata\\local\\programs\\python\\python311\\lib\\site-packages (from huggingface_hub) (2.32.3)\n",
      "Requirement already satisfied: tqdm>=4.42.1 in c:\\users\\kille\\appdata\\local\\programs\\python\\python311\\lib\\site-packages (from huggingface_hub) (4.67.1)\n",
      "Requirement already satisfied: typing-extensions>=3.7.4.3 in c:\\users\\kille\\appdata\\roaming\\python\\python311\\site-packages (from huggingface_hub) (4.12.2)\n",
      "Requirement already satisfied: colorama in c:\\users\\kille\\appdata\\roaming\\python\\python311\\site-packages (from tqdm>=4.42.1->huggingface_hub) (0.4.6)\n",
      "Requirement already satisfied: charset-normalizer<4,>=2 in c:\\users\\kille\\appdata\\local\\programs\\python\\python311\\lib\\site-packages (from requests->huggingface_hub) (3.4.1)\n",
      "Requirement already satisfied: idna<4,>=2.5 in c:\\users\\kille\\appdata\\local\\programs\\python\\python311\\lib\\site-packages (from requests->huggingface_hub) (3.10)\n",
      "Requirement already satisfied: urllib3<3,>=1.21.1 in c:\\users\\kille\\appdata\\local\\programs\\python\\python311\\lib\\site-packages (from requests->huggingface_hub) (2.3.0)\n",
      "Requirement already satisfied: certifi>=2017.4.17 in c:\\users\\kille\\appdata\\local\\programs\\python\\python311\\lib\\site-packages (from requests->huggingface_hub) (2025.1.31)\n",
      "Note: you may need to restart the kernel to use updated packages.\n"
     ]
    },
    {
     "name": "stderr",
     "output_type": "stream",
     "text": [
      "\n",
      "[notice] A new release of pip is available: 23.2.1 -> 25.0.1\n",
      "[notice] To update, run: python.exe -m pip install --upgrade pip\n"
     ]
    }
   ],
   "source": [
    "%pip install huggingface_hub"
   ]
  },
  {
   "cell_type": "code",
   "execution_count": null,
   "metadata": {},
   "outputs": [
    {
     "name": "stdout",
     "output_type": "stream",
     "text": [
      "               Nike pulls flag-themed shoe. Betsy Ross: beloved symbol of American folklore or avatar of white supremacy?\n",
      "While no one seems to be saying that Ross herself was an evil racist, the fact that she lived—and allegedly sewed the iconic, 13-star flag associated with the American Revolution—during slaveholding times is apparently enough to ensure that she and her flag be canceled.\n",
      "The controversy comes after Nike announced a new Fourth of July-themed sneaker, made in red, white, and blue materials and adorned on the heel with the Betsy Ross flag. After shipping the shoe—a version of Nike's popular Air Max 1—to stores, the company then abruptly called for their return.\n",
      "\"Nike has chosen not to release the Air Max 1 Quick Strike Fourth of July as it featured the old version of the American flag,\" was all a Nike spokesperson would say. But the shoes were reportedly yanked at the request of Colin Kaepernick, former NFL football player and current Nike representative.\n",
      "According to some, the Ross flag has been co-opted by racists as a symbol of white nationalism, and therefore we're just supposed to just cede it to them and move on.\n",
      "The Betsy Ross flag is not \"the American flag\", and as I'm sure you're aware, it's been appropriated as a symbol of white nationalism. Would you approve of a Confederate flag sneaker? Or do you consider that an American flag too? https://t.co/ReX29V1RIo\n",
      "— Elizabeth Spiers (@espiers) July 2, 2019\n",
      "Not everyone agrees…\n",
      "To be clear: I don't think it's wise to cede national or civic symbols to racists because they want them to be able to publicly present their ideology as \"patriotic,\" and what America should be, which is exactly what is being contested. Let them have the stars and bars.\n",
      "— Adam Serwer???? (@AdamSerwer) July 2, 2019\n",
      "For the record, \"whether Ross actually designed the flag is a matter of dispute,\" as The Washington Post notes. \"There is little evidence to back up assertions by her descendants that turned the Philadelphia-based upholsterer into a national heroine in the 1870s.\n",
      "Nike's decision to pull the shoes sparked an immediate backlash, especially among folks on the right. Arizona Gov. Doug Ducey said he's canceling incentives the state had offered Nike to build a plant there.\n",
      "Instead of celebrating American history the week of our nation's independence, Nike has apparently decided that Betsy Ross is unworthy, and has bowed to the current onslaught of political correctness and historical revisionism. 5/\n",
      "— Doug Ducey (@dougducey) July 2, 2019 QUICK HITS\n",
      "headline fix: this data wasn't 'collected,' it was stolen. https://t.co/d1U8y2P2dF\n",
      "— troy farah (@filth_filler) July 2, 2019 Conditions in migrant detention centers are \"worse than we ever could have imagined,\" say Democratic lawmakers who visited yesterday.\n",
      "\"The average person on Earth is now 4.4 times richer than their ancestors were in 1950,\" reports Axios on a new analysis of generational growth.\n",
      "Vox discovered that gun owners aren't all Republican.\n",
      "Gun groups are suing California over the state's decision to raise the legal gun-buying age to 21. \"Battle-ready Trump supporters\" are descending on the capital this week.\n",
      "The American Civil Liberties Union is suing to stop Florida from requiring felons to pay fees before voting.\n",
      "Neil Gaiman's Sandman is being made into a Netflix series.             \n",
      "[0.3133540749549866, 0.13122566044330597, 0.5554202198982239]\n",
      "2\n",
      "Predicted Bias Label: 2\n"
     ]
    }
   ],
   "source": [
    "import kagglehub\n",
    "import os\n",
    "import torch\n",
    "import torch.nn.functional as F\n",
    "import torch.optim as optim\n",
    "from torch.utils.data import Dataset, DataLoader, random_split\n",
    "from transformers import AutoTokenizer, AutoModelForSequenceClassification, DistilBertForSequenceClassification\n",
    "\n",
    "class BiasClassifier:\n",
    "    def __init__(self):\n",
    "        self.device = \"cuda\" if torch.cuda.is_available() else \"cpu\"\n",
    "        self.tokenizer = AutoTokenizer.from_pretrained(\"KiahHong/distilled-bias-bert\")\n",
    "        self.model = AutoModelForSequenceClassification.from_pretrained(\"KiahHong/distilled-bias-bert\").to(self.device)\n",
    "    \n",
    "    def predict(self, text):\n",
    "        # print(text)\n",
    "        inputs = self.tokenizer(text, return_tensors=\"pt\", truncation=True, padding=\"max_length\", max_length=512)\n",
    "        inputs.pop(\"token_type_ids\", None)  # Remove token_type_ids to avoid error\n",
    "        inputs = {key: val.to(self.device) for key, val in inputs.items()}\n",
    "        with torch.no_grad():\n",
    "            outputs = self.model(**inputs)\n",
    "            logits = outputs.logits\n",
    "            probabilities = torch.softmax(logits, dim=-1)[0].tolist()\n",
    "            prediction = torch.argmax(logits, dim=-1).item()\n",
    "            print(probabilities)\n",
    "            print(prediction)\n",
    "        return prediction\n",
    "\n",
    "if __name__ == \"__main__\":\n",
    "    classifier = BiasClassifier()\n",
    "    # demo files to use\n",
    "    file_path = \"1/Left Data/Left Data/0_0.txt\"\n",
    "    # file_path = \"1/Center Data/Center Data/0_0.txt\"\n",
    "    # file_path = \"1/Right Data/Right Data/1_0.txt\"\n",
    "    with open(file_path, \"r\", encoding=\"utf-8\") as f:\n",
    "        text = f.read()\n",
    "    \n",
    "    prediction = classifier.predict(text)\n",
    "    print(f\"Predicted Bias Label: {prediction}\")"
   ]
  },
  {
   "cell_type": "code",
   "execution_count": null,
   "metadata": {},
   "outputs": [
    {
     "name": "stderr",
     "output_type": "stream",
     "text": [
      "c:\\Users\\kille\\AppData\\Local\\Programs\\Python\\Python311\\Lib\\site-packages\\huggingface_hub\\file_download.py:142: UserWarning: `huggingface_hub` cache-system uses symlinks by default to efficiently store duplicated files but your machine does not support them in C:\\Users\\kille\\.cache\\huggingface\\hub\\models--KiahHong--distilled-bias-bert. Caching files will still work but in a degraded version that might require more space on your disk. This warning can be disabled by setting the `HF_HUB_DISABLE_SYMLINKS_WARNING` environment variable. For more details, see https://huggingface.co/docs/huggingface_hub/how-to-cache#limitations.\n",
      "To support symlinks on Windows, you either need to activate Developer Mode or to run Python as an administrator. In order to activate developer mode, see this article: https://docs.microsoft.com/en-us/windows/apps/get-started/enable-your-device-for-development\n",
      "  warnings.warn(message)\n",
      "model.safetensors: 100%|██████████| 263M/263M [00:17<00:00, 15.0MB/s] \n"
     ]
    },
    {
     "data": {
      "text/plain": [
       "CommitInfo(commit_url='https://huggingface.co/KiahHong/distilled-bias-bert/commit/63e2c32e501a7b5f131aad48a6de2fb450023466', commit_message='Upload DistilBertForSequenceClassification', commit_description='', oid='63e2c32e501a7b5f131aad48a6de2fb450023466', pr_url=None, repo_url=RepoUrl('https://huggingface.co/KiahHong/distilled-bias-bert', endpoint='https://huggingface.co', repo_type='model', repo_id='KiahHong/distilled-bias-bert'), pr_revision=None, pr_num=None)"
      ]
     },
     "execution_count": 5,
     "metadata": {},
     "output_type": "execute_result"
    }
   ],
   "source": [
    "import kagglehub\n",
    "import os\n",
    "import torch\n",
    "import torch.nn.functional as F\n",
    "import torch.optim as optim\n",
    "from torch.utils.data import Dataset, DataLoader, random_split\n",
    "from transformers import AutoTokenizer, AutoModelForSequenceClassification, DistilBertForSequenceClassification\n",
    "\n",
    "from huggingface_hub import HfApi\n",
    "\n",
    "repo_name = \"KiahHong/distilled-bias-bert\"  \n",
    "\n",
    "api = HfApi()\n",
    "api.create_repo(repo_name, exist_ok=True)\n",
    "model = AutoTokenizer.from_pretrained(\"distilled_biasBERT\")\n",
    "tokenizer = DistilBertForSequenceClassification.from_pretrained(\"distilled_biasBERT\").to(\"cuda\" if torch.cuda.is_available() else \"cpu\")\n",
    "model.push_to_hub(repo_name)\n",
    "tokenizer.push_to_hub(repo_name)"
   ]
  },
  {
   "cell_type": "code",
   "execution_count": 6,
   "metadata": {},
   "outputs": [],
   "source": [
    "# Load model directly\n",
    "from transformers import AutoTokenizer, AutoModelForSequenceClassification\n",
    "\n",
    "tokenizer = AutoTokenizer.from_pretrained(\"KiahHong/distilled-bias-bert\")\n",
    "model = AutoModelForSequenceClassification.from_pretrained(\"KiahHong/distilled-bias-bert\")"
   ]
  },
  {
   "cell_type": "code",
   "execution_count": null,
   "metadata": {},
   "outputs": [],
   "source": []
  }
 ],
 "metadata": {
  "kernelspec": {
   "display_name": "Python 3",
   "language": "python",
   "name": "python3"
  },
  "language_info": {
   "codemirror_mode": {
    "name": "ipython",
    "version": 3
   },
   "file_extension": ".py",
   "mimetype": "text/x-python",
   "name": "python",
   "nbconvert_exporter": "python",
   "pygments_lexer": "ipython3",
   "version": "3.11.5"
  }
 },
 "nbformat": 4,
 "nbformat_minor": 2
}
